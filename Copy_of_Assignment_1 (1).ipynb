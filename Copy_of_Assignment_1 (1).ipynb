{
  "nbformat": 4,
  "nbformat_minor": 0,
  "metadata": {
    "colab": {
      "provenance": []
    },
    "kernelspec": {
      "name": "python3",
      "display_name": "Python 3"
    },
    "language_info": {
      "name": "python"
    }
  },
  "cells": [
    {
      "cell_type": "code",
      "execution_count": null,
      "metadata": {
        "id": "ul9bgMtafOE9"
      },
      "outputs": [],
      "source": []
    },
    {
      "cell_type": "markdown",
      "source": [
        " # Theory Question and  Answers.\n",
        "\n",
        " 1.What is Python, and why is it popular?\n",
        "\n",
        " Ans- Python is a high level , interpreted programing language which is known for its simplicity, readablity and versatility.\n",
        " It is popular because:-\n",
        "\n",
        "*   it is easy to learn and use\n",
        "*   It has versatile application.\n",
        "*   it has large community & liraries.\n",
        "*   it has strong suport for the integration.\n",
        "\n",
        "\n",
        "\n",
        "2.What is an interpreter in Python?\n",
        "\n",
        "Ans- Interpreter is a program that that reads and executes python code line by line.\n",
        "\n",
        "\n",
        "\n",
        "3.What are pre-defined keywords in Python?\n",
        "\n",
        "Ans- Pre defined keywords are the reserved words in python which cannot be used as identifiers like variable names, function names etc..,.\n",
        "\n",
        "\n",
        "\n",
        "4.Can keywords be used as variable names\n",
        "\n",
        "Ans- No. keywords cannot be used as a variable names.\n",
        "\n",
        "\n",
        "\n",
        "5.What is mutability in Python?\n",
        "\n",
        "Ans- Mutability is the ability of an object which can be modified after it is created. A value or state of an object can be change without creating new object.\n",
        "\n",
        "\n",
        "\n",
        "6.Why are lists mutable, but tuples are immutable?\n",
        "\n",
        "Ans- List and tuples are same iin every way, except:-\n",
        "      Lists syntex contains square bracket [], where as tuples syntex contains parenthesis ().\n",
        "      List data once created can be modified , whereas tuples data once created cannot be modified.\n",
        "\n",
        "\n",
        "\n",
        "7.What is the difference between “==” and “is” operators in Python?\n",
        "\n",
        "Ans- The \"==\" operator checks for equality of value between two objects, while the \"is\" operator checks for identity, meaning it verifies if two variables refer to the exact same object in memory.\n",
        "\n",
        "\n",
        "\n",
        "8.What are logical operators in Python?\n",
        "\n",
        "Ans- Logical operators in Python are used to combine or modify conditional statements, evaluating to a Boolean value of True or False. There are three main logical operators: and, or, and not.\n",
        "\n",
        "\n",
        "\n",
        "9.What is type casting in Python?\n",
        "\n",
        "Ans-Type casting in Python, is the process of changing a variable's data type. Python supports two types of type casting: implicit and explicit.\n",
        "\n",
        "\n",
        "\n",
        "10.What is the difference between implicit and explicit type casting?\n",
        "\n",
        "Ans- Implicit type casting, also known as widening or coercion, is the automatic conversion of one data type to another, typically from a smaller data type to a larger one, performed by the compiler.\n",
        "\n",
        "Explicit type casting, on the other hand, is a manual conversion where the programmer specifies the desired data type, often involving a potential loss of data or precision.\n",
        "\n",
        "\n",
        "\n",
        "11.What is the purpose of conditional statements in Python?\n",
        "\n",
        "Ans-The purpose of conditional statements in Python is to control the flow of execution in a program, enabling it to make decisions based on whether certain conditions are met. Ex- If, elif, nestedif, else.\n",
        "\n",
        "\n",
        "\n",
        "12.How does the elif statement work?\n",
        "\n",
        "Ans- The elif statement in Python is used in conjunction with if and optionally else to create a chain of conditional checks. It allows the program to evaluate multiple conditions sequentially and execute the block of code corresponding to the first condition that evaluates to True. If none of the conditions are true, and an else block is present, the code within the else block is executed.\n",
        "\n",
        "Ex-\n",
        "\n",
        "age = 25\n",
        "\n",
        "if age < 13:\n",
        "\n",
        "    print(\"Child\")\n",
        "\n",
        "elif age >= 13 and age < 20:\n",
        "\n",
        "    print(\"Teenager\")\n",
        "\n",
        "elif age >= 20 and age < 65:\n",
        "\n",
        "    print(\"Adult\")\n",
        "\n",
        "else:\n",
        "\n",
        "    print(\"Senior\")\n",
        "\n",
        "\n",
        "\n",
        "\n",
        "\n",
        "13.What is the difference between for and while loops?\n",
        "\n",
        "Ans- for loop: It is used for iterating over a sequence (such as a list, tuple, string, or range) or other iterable objects. The loop executes a block of code for each item in the sequence. The number of iterations is known in advance.\n",
        "\n",
        "eg-\n",
        "\n",
        "    for i in range(5):\n",
        "        print(i) # Output: 0 1 2 3 4\n",
        "\n",
        "while loop: It is used to repeatedly execute a block of code as long as a specified condition is true. The loop continues until the condition becomes false. The number of iterations is not necessarily known in advance and depends on the condition being met.\n",
        "\n",
        "eg-\n",
        "\n",
        "    count = 0\n",
        "    while count < 5:\n",
        "        print(count) # Output: 0 1 2 3 4\n",
        "        count += 1\n",
        "\n",
        "\n",
        "for loop: is suitable when you know how many times you need to iterate,\n",
        "\n",
        "while loop: is better when the number of iterations depends on a condition.\n",
        "\n",
        "\n",
        "14.Describe a scenario where a while loop is more suitable than a for loop.\n",
        "\n",
        "Ans- while loop is more suitable than a for loop is when the number of iterations is not known in advance and depends on a certain condition being met.\n",
        "\n",
        "eg- consider a program that prompts the user for input until they enter a specific word, such as \"quit\". A while loop can be used to continuously ask for input as long as the input is not \"quit\", while a for loop would require knowing the number of inputs beforehand.\n",
        "\n",
        "\n",
        "user_input = \"\"\n",
        "while user_input.lower() != \"quit\":\n",
        "    user_input = input(\"Enter something (type 'quit' to exit): \")\n",
        "    print(\"You entered:\", user_input)\n",
        "print(\"Exiting...\")\n",
        "\n",
        "\n",
        "\n",
        "\n",
        "\n",
        "\n",
        "\n",
        "\n",
        "\n",
        "\n",
        "\n"
      ],
      "metadata": {
        "id": "UmqqlQI1fgpQ"
      }
    },
    {
      "cell_type": "markdown",
      "source": [
        "# Practical Question and Answers\n",
        "\n",
        "1.Write a Python program to print \"Hello, World!?"
      ],
      "metadata": {
        "id": "pdsaatZnjk67"
      }
    },
    {
      "cell_type": "code",
      "source": [
        "print (\"Hello, world!\")"
      ],
      "metadata": {
        "colab": {
          "base_uri": "https://localhost:8080/"
        },
        "id": "dJwqKgLbimo7",
        "outputId": "293c860c-5b2c-4497-f200-f3f045897cb8"
      },
      "execution_count": 1,
      "outputs": [
        {
          "output_type": "stream",
          "name": "stdout",
          "text": [
            "Hello, world!\n"
          ]
        }
      ]
    },
    {
      "cell_type": "markdown",
      "source": [
        "2. Write a Python program that displays your name and age."
      ],
      "metadata": {
        "id": "eZHOoULgi3Cy"
      }
    },
    {
      "cell_type": "code",
      "source": [
        "input (\"Whats your name?\")\n",
        "input (\"whats your age?\")"
      ],
      "metadata": {
        "colab": {
          "base_uri": "https://localhost:8080/",
          "height": 70
        },
        "id": "oASGiWSjitR4",
        "outputId": "1ab8d685-dfe9-433c-c1c1-2a63349ff9aa"
      },
      "execution_count": 5,
      "outputs": [
        {
          "name": "stdout",
          "output_type": "stream",
          "text": [
            "Whats your name?priyanshu\n",
            "whats your age?27\n"
          ]
        },
        {
          "output_type": "execute_result",
          "data": {
            "text/plain": [
              "'27'"
            ],
            "application/vnd.google.colaboratory.intrinsic+json": {
              "type": "string"
            }
          },
          "metadata": {},
          "execution_count": 5
        }
      ]
    },
    {
      "cell_type": "markdown",
      "source": [
        "3.Write code to print all the pre-defined keywords in Python using the keyword library."
      ],
      "metadata": {
        "id": "fpBocSVsjsBJ"
      }
    },
    {
      "cell_type": "code",
      "source": [
        "help(\"keywords\")"
      ],
      "metadata": {
        "colab": {
          "base_uri": "https://localhost:8080/"
        },
        "id": "2gelmdZpjPaS",
        "outputId": "6f19feb8-4f7b-45d8-cf1b-f099ef98fd3c"
      },
      "execution_count": 7,
      "outputs": [
        {
          "output_type": "stream",
          "name": "stdout",
          "text": [
            "\n",
            "Here is a list of the Python keywords.  Enter any keyword to get more help.\n",
            "\n",
            "False               class               from                or\n",
            "None                continue            global              pass\n",
            "True                def                 if                  raise\n",
            "and                 del                 import              return\n",
            "as                  elif                in                  try\n",
            "assert              else                is                  while\n",
            "async               except              lambda              with\n",
            "await               finally             nonlocal            yield\n",
            "break               for                 not                 \n",
            "\n"
          ]
        }
      ]
    },
    {
      "cell_type": "markdown",
      "source": [
        "4.Write a program that checks if a given word is a Python keyword."
      ],
      "metadata": {
        "id": "p8eSI7Oekq6E"
      }
    },
    {
      "cell_type": "code",
      "source": [
        "import keyword\n",
        "\n",
        "def check_if_keyword(word):\n",
        "    python_keywords = keyword.kwlist\n",
        "    if word in python_keywords:\n",
        "        print(f\"'{word}' is a Python keyword.\")\n",
        "    else:\n",
        "        print(f\"'{word}' is NOT a Python keyword.\")\n",
        "user_input = input(\"Enter a word to check if it's a Python keyword: \")\n",
        "check_if_keyword(user_input)"
      ],
      "metadata": {
        "colab": {
          "base_uri": "https://localhost:8080/"
        },
        "id": "QUJp1wUFj2bZ",
        "outputId": "36658c76-95f1-4f88-a5f3-13fd7408ba01"
      },
      "execution_count": 12,
      "outputs": [
        {
          "output_type": "stream",
          "name": "stdout",
          "text": [
            "Enter a word to check if it's a Python keyword: true\n",
            "'true' is NOT a Python keyword.\n"
          ]
        }
      ]
    },
    {
      "cell_type": "markdown",
      "source": [
        "5.Create a list and tuple in Python, and demonstrate how attempting to change an element works differently\n",
        "for each."
      ],
      "metadata": {
        "id": "Lhsy9U58lwUo"
      }
    },
    {
      "cell_type": "code",
      "source": [
        "my_list = [10, 20, 30]\n",
        "my_tuple = (10, 20, 30)\n",
        "\n",
        "print(\"Original list:\", my_list)  #changing the element in the list\n",
        "my_list[1] = 100\n",
        "print(\"Modified list:\", my_list)\n",
        "\n",
        "\n",
        "print(\"\\nOriginal tuple:\", my_tuple)   # Attempting to change an element in the tuple\n",
        "try:\n",
        "    my_tuple[1] = 100\n",
        "except TypeError as e:\n",
        "    print(\"Error when trying to modify tuple:\", e)"
      ],
      "metadata": {
        "colab": {
          "base_uri": "https://localhost:8080/"
        },
        "id": "iNJyF_xJmMVx",
        "outputId": "4c096b7c-1780-4c81-fe31-6f6ad46d2ce9"
      },
      "execution_count": 14,
      "outputs": [
        {
          "output_type": "stream",
          "name": "stdout",
          "text": [
            "Original list: [10, 20, 30]\n",
            "Modified list: [10, 100, 30]\n",
            "\n",
            "Original tuple: (10, 20, 30)\n",
            "Error when trying to modify tuple: 'tuple' object does not support item assignment\n"
          ]
        }
      ]
    },
    {
      "cell_type": "markdown",
      "source": [
        "6. Write a function to demonstrate the behavior of mutable and immutable arguments."
      ],
      "metadata": {
        "id": "n7GcO3GgmtpF"
      }
    },
    {
      "cell_type": "code",
      "source": [
        "def change_values(num, my_list):\n",
        "    num = num + 5        # This won't change the original number\n",
        "    my_list.append(10)   # This will change the original list\n",
        "\n",
        "# Immutable (number)\n",
        "number = 20\n",
        "\n",
        "# Mutable (list)\n",
        "numbers_list = [1, 2, 3]\n",
        "\n",
        "print(\"Before function call:\")\n",
        "print(\"number:\", number)\n",
        "print(\"numbers_list:\", numbers_list)\n",
        "\n",
        "change_values(number, numbers_list)\n",
        "\n",
        "print(\"\\nAfter function call:\")\n",
        "print(\"number:\", number)              # it Will stay the same\n",
        "print(\"numbers_list:\", numbers_list)  # it Will be updated"
      ],
      "metadata": {
        "colab": {
          "base_uri": "https://localhost:8080/"
        },
        "id": "9nthsOuGk9q6",
        "outputId": "fd83d2a4-4629-46ff-dd32-654123d0ca23"
      },
      "execution_count": 15,
      "outputs": [
        {
          "output_type": "stream",
          "name": "stdout",
          "text": [
            "Before function call:\n",
            "number: 20\n",
            "numbers_list: [1, 2, 3]\n",
            "\n",
            "After function call:\n",
            "number: 20\n",
            "numbers_list: [1, 2, 3, 10]\n"
          ]
        }
      ]
    },
    {
      "cell_type": "markdown",
      "source": [
        "7.  Write a program that performs basic arithmetic operations on two user-input numbers."
      ],
      "metadata": {
        "id": "_DCQ6w6Vonp5"
      }
    },
    {
      "cell_type": "code",
      "source": [
        "a = float(input(\"Enter first number: \"))\n",
        "b = float(input(\"Enter second number: \"))\n",
        "print(\"Addition:\", a + b)\n",
        "print(\"Subtraction:\", a - b)\n",
        "print(\"Multiplication:\", a * b)\n",
        "if b != 0:\n",
        "    print(\"Division:\", a / b)\n",
        "else:\n",
        "    print(\"Division: Cannot divide by zero\")"
      ],
      "metadata": {
        "colab": {
          "base_uri": "https://localhost:8080/"
        },
        "id": "jPVs8PMrnNad",
        "outputId": "2c5c14cf-5515-4001-ea58-a16d769ca989"
      },
      "execution_count": 18,
      "outputs": [
        {
          "output_type": "stream",
          "name": "stdout",
          "text": [
            "Enter first number: 9\n",
            "Enter second number: 6\n",
            "Addition: 15.0\n",
            "Subtraction: 3.0\n",
            "Multiplication: 54.0\n",
            "Division: 1.5\n"
          ]
        }
      ]
    },
    {
      "cell_type": "markdown",
      "source": [
        "8. Write a program to demonstrate the use of logical operators."
      ],
      "metadata": {
        "id": "rwcKdDg3otJY"
      }
    },
    {
      "cell_type": "code",
      "source": [
        "a = True\n",
        "b = False\n",
        "\n",
        "# Demonstrate logical operators\n",
        "print(\"a and b:\", a and b)   # True only if both are True\n",
        "print(\"a or b:\", a or b)     # True if at least one is True\n",
        "print(\"not a:\", not a)"
      ],
      "metadata": {
        "colab": {
          "base_uri": "https://localhost:8080/"
        },
        "id": "Izj3ZdIqodkR",
        "outputId": "af8eb35f-f24b-4a4c-92bd-88964c02f465"
      },
      "execution_count": 19,
      "outputs": [
        {
          "output_type": "stream",
          "name": "stdout",
          "text": [
            "a and b: False\n",
            "a or b: True\n",
            "not a: False\n"
          ]
        }
      ]
    },
    {
      "cell_type": "markdown",
      "source": [
        "9. Write a Python program to convert user input from string to integer, float, and boolean types."
      ],
      "metadata": {
        "id": "kAyoc0e5pMja"
      }
    },
    {
      "cell_type": "code",
      "source": [
        "user_input = input(\"Enter a value: \")\n",
        "\n",
        "\n",
        "int_value = int(user_input)  # Convert to integer\n",
        "print(\"As Integer:\", int_value)\n",
        "\n",
        "\n",
        "float_value = float(user_input) # Convert to float\n",
        "print(\"As Float:\", float_value)\n",
        "\n",
        "\n",
        "bool_value = bool(user_input)  # Convert to boolean\n",
        "print(\"As Boolean:\", bool_value)"
      ],
      "metadata": {
        "colab": {
          "base_uri": "https://localhost:8080/"
        },
        "id": "Y2rJBKy_pLAh",
        "outputId": "75529e53-f27b-4508-af1c-ef619cda0119"
      },
      "execution_count": 20,
      "outputs": [
        {
          "output_type": "stream",
          "name": "stdout",
          "text": [
            "Enter a value: 5\n",
            "As Integer: 5\n",
            "As Float: 5.0\n",
            "As Boolean: True\n"
          ]
        }
      ]
    },
    {
      "cell_type": "markdown",
      "source": [
        "10.Write code to demonstrate type casting with list elements."
      ],
      "metadata": {
        "id": "KHAt9jsip43Y"
      }
    },
    {
      "cell_type": "code",
      "source": [
        "my_list = [\"10\", \"20.5\", \"True\", \"30\"]\n",
        "int_list = [int(i) if i.isdigit() else i for i in my_list]\n",
        "float_list = [float(i) if '.' in i else i for i in my_list]\n",
        "bool_list = [bool(i) for i in my_list]\n",
        "\n",
        "print(\"Integers:\", int_list, \"Floats:\", float_list, \"Booleans:\", bool_list)"
      ],
      "metadata": {
        "colab": {
          "base_uri": "https://localhost:8080/"
        },
        "id": "VUBE_6_Lp2T2",
        "outputId": "6eb8ec70-337b-4d8c-eb32-af77d0f2d4b4"
      },
      "execution_count": 21,
      "outputs": [
        {
          "output_type": "stream",
          "name": "stdout",
          "text": [
            "Integers: [10, '20.5', 'True', 30] Floats: ['10', 20.5, 'True', '30'] Booleans: [True, True, True, True]\n"
          ]
        }
      ]
    },
    {
      "cell_type": "markdown",
      "source": [
        "11. Write a program that checks if a number is positive, negative, or zero."
      ],
      "metadata": {
        "id": "sDM-Oiz1qQ9z"
      }
    },
    {
      "cell_type": "code",
      "source": [
        "num = float(input(\"Enter a number: \"))\n",
        "if num > 0:\n",
        "    print(\"Positive\")\n",
        "elif num < 0:\n",
        "    print(\"Negative\")\n",
        "else:\n",
        "    print(\"Zero\")"
      ],
      "metadata": {
        "colab": {
          "base_uri": "https://localhost:8080/"
        },
        "id": "HIEbtg76qPTf",
        "outputId": "345f424e-53c0-43b1-c604-3ad2dda9d0ea"
      },
      "execution_count": 23,
      "outputs": [
        {
          "output_type": "stream",
          "name": "stdout",
          "text": [
            "Enter a number: 5\n",
            "Positive\n"
          ]
        }
      ]
    },
    {
      "cell_type": "markdown",
      "source": [
        "12.Write a for loop to print numbers from 1 to 10."
      ],
      "metadata": {
        "id": "1XYA8GRQqltT"
      }
    },
    {
      "cell_type": "code",
      "source": [
        "for i in range(1, 11):\n",
        "    print(i)"
      ],
      "metadata": {
        "colab": {
          "base_uri": "https://localhost:8080/"
        },
        "id": "V30-3G6uqfXr",
        "outputId": "ac5dd56f-0775-438a-fe1e-cbc7f59b6020"
      },
      "execution_count": 24,
      "outputs": [
        {
          "output_type": "stream",
          "name": "stdout",
          "text": [
            "1\n",
            "2\n",
            "3\n",
            "4\n",
            "5\n",
            "6\n",
            "7\n",
            "8\n",
            "9\n",
            "10\n"
          ]
        }
      ]
    },
    {
      "cell_type": "markdown",
      "source": [
        "13. Write a Python program to find the sum of all even numbers between 1 and 50."
      ],
      "metadata": {
        "id": "YOO28V5vq1zR"
      }
    },
    {
      "cell_type": "code",
      "source": [
        "sum_even = 0\n",
        "for i in range(2, 51, 2):  # Start from 2 and step by 2\n",
        "    sum_even += i\n",
        "print(\"Sum of all even numbers between 1 and 50:\", sum_even)"
      ],
      "metadata": {
        "colab": {
          "base_uri": "https://localhost:8080/"
        },
        "id": "SUDFYIktqzYz",
        "outputId": "c9bd531a-a923-40d7-fbaa-382bda72534a"
      },
      "execution_count": 25,
      "outputs": [
        {
          "output_type": "stream",
          "name": "stdout",
          "text": [
            "Sum of all even numbers between 1 and 50: 650\n"
          ]
        }
      ]
    },
    {
      "cell_type": "markdown",
      "source": [
        "14.Write a program to reverse a string using a while loop."
      ],
      "metadata": {
        "id": "jRSGwLserL5f"
      }
    },
    {
      "cell_type": "code",
      "source": [
        "string = input(\"Enter a string: \")\n",
        "reversed_string = \"\"\n",
        "i = len(string) - 1\n",
        "\n",
        "while i >= 0:\n",
        "    reversed_string += string[i]\n",
        "    i -= 1\n",
        "\n",
        "print(\"Reversed string:\", reversed_string)"
      ],
      "metadata": {
        "colab": {
          "base_uri": "https://localhost:8080/"
        },
        "id": "I_8D4eZurKBM",
        "outputId": "fe3f101f-c6ba-4e50-d1cb-fa0e97683b32"
      },
      "execution_count": 26,
      "outputs": [
        {
          "output_type": "stream",
          "name": "stdout",
          "text": [
            "Enter a string: priyanshu\n",
            "Reversed string: uhsnayirp\n"
          ]
        }
      ]
    },
    {
      "cell_type": "markdown",
      "source": [
        "15. Write a Python program to calculate the factorial of a number provided by the user using a while loop."
      ],
      "metadata": {
        "id": "_H8IObjFrhfQ"
      }
    },
    {
      "cell_type": "code",
      "source": [
        "num = int(input(\"Enter a number: \"))\n",
        "factorial = 1\n",
        "while num > 1:\n",
        "    factorial *= num\n",
        "    num -= 1\n",
        "print(\"Factorial:\", factorial)\n"
      ],
      "metadata": {
        "colab": {
          "base_uri": "https://localhost:8080/"
        },
        "id": "GWGJhe-krd7G",
        "outputId": "6ff97d22-bc24-4c01-b403-0046bc1b7644"
      },
      "execution_count": 27,
      "outputs": [
        {
          "output_type": "stream",
          "name": "stdout",
          "text": [
            "Enter a number: 28\n",
            "Factorial: 304888344611713860501504000000\n"
          ]
        }
      ]
    },
    {
      "cell_type": "code",
      "source": [],
      "metadata": {
        "id": "wqWxpN7srweT"
      },
      "execution_count": null,
      "outputs": []
    }
  ]
}